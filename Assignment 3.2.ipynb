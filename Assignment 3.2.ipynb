{
 "cells": [
  {
   "cell_type": "code",
   "execution_count": null,
   "metadata": {},
   "outputs": [],
   "source": [
    "# Using for loops------------------------------------\n",
    "a=input('Please enter the word : ')\n",
    "c=input('Please enter the combination : ')\n",
    "f=input('Enter the number : ')\n",
    "b=a.upper()\n",
    "d=c.lower()\n",
    "e=list(d)\n",
    "g=list(f)\n",
    "result1=[]\n",
    "result2=[]\n",
    "result3=[]\n",
    "for val in range(len(e)+1):\n",
    "    for elem in e[0:]:\n",
    "        mul=1+val\n",
    "        eval=mul*elem\n",
    "        result1.append(eval)\n",
    "for elem in e[0:]:\n",
    "    for val in range(len(e)+1):\n",
    "        mul=1+val\n",
    "        eval=mul*elem\n",
    "        result2.append(eval)\n",
    "for elem in f[0:]:\n",
    "    for val in range(len(f)):\n",
    "        s=int(elem)+val\n",
    "        r=[]\n",
    "        r.append(s)\n",
    "        result3.append(r)\n",
    "\n",
    "print(list(b))\n",
    "print(result2)\n",
    "print(result1)\n",
    "print(result3)\n",
    "# Using list comprehensions-----------------------\n",
    "print([[(i+j) for i in [2,3,4,5]] for j in range(4)])\n",
    "print([(y,x) for x in [1,2,3] for y in [1,2,3]])"
   ]
  }
 ],
 "metadata": {
  "kernelspec": {
   "display_name": "Python 3",
   "language": "python",
   "name": "python3"
  },
  "language_info": {
   "codemirror_mode": {
    "name": "ipython",
    "version": 3
   },
   "file_extension": ".py",
   "mimetype": "text/x-python",
   "name": "python",
   "nbconvert_exporter": "python",
   "pygments_lexer": "ipython3",
   "version": "3.6.4"
  }
 },
 "nbformat": 4,
 "nbformat_minor": 2
}
